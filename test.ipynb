{
 "cells": [
  {
   "cell_type": "code",
   "execution_count": null,
   "source": [
    "%load_ext autoreload\r\n",
    "%autoreload 2"
   ],
   "outputs": [],
   "metadata": {}
  },
  {
   "cell_type": "code",
   "execution_count": null,
   "source": [
    "from kaggle_environments import make\r\n",
    "import os\r\n",
    "env = make(\"lux_ai_2021\", debug=True, configuration={\r\n",
    "           \"annotations\": True, \"width\": 12, \"height\": 12})\r\n",
    "steps = env.run([\"agent.py\", \"simple_agent\", ])\r\n",
    "env.render(mode=\"ipython\", width=1000, height=800)"
   ],
   "outputs": [],
   "metadata": {}
  }
 ],
 "metadata": {
  "orig_nbformat": 4,
  "language_info": {
   "name": "python"
  }
 },
 "nbformat": 4,
 "nbformat_minor": 2
}