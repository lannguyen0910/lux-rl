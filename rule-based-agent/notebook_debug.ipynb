{
 "cells": [
  {
   "cell_type": "code",
   "execution_count": 1,
   "id": "47196cc6",
   "metadata": {},
   "outputs": [],
   "source": [
    "%load_ext autoreload\n",
    "%autoreload 2"
   ]
  },
  {
   "cell_type": "code",
   "execution_count": 2,
   "id": "00e15761",
   "metadata": {},
   "outputs": [
    {
     "name": "stdout",
     "output_type": "stream",
     "text": [
      "plan mission to build citytile u_12 (4, 12) -> (4, 12)\n",
      "plan mission to build citytile u_5 (5, 16) -> (5, 16)\n",
      "plan mission to build citytile u_3 (6, 6) -> (6, 6)\n",
      "plan mission to build citytile u_15 (8, 11) -> (8, 11)\n",
      "plan mission to build citytile u_11 (9, 13) -> (9, 13)\n",
      "plan mission to build citytile u_9 (10, 13) -> (10, 13)\n",
      "plan mission to build citytile u_7 (10, 11) -> (10, 11)\n",
      "plan mission to build citytile u_1 (16, 11) -> (16, 11)\n",
      "attempting action for u_12 (4, 12)\n",
      "location reached and make action u_12 (4, 12)\n",
      "attempting action for u_5 (5, 16)\n",
      "location reached and make action u_5 (5, 16)\n",
      "attempting action for u_3 (6, 6)\n",
      "location reached and make action u_3 (6, 6)\n",
      "attempting action for u_7 (10, 11)\n",
      "location reached and make action u_7 (10, 11)\n",
      "attempting action for u_1 (16, 11)\n",
      "location reached and make action u_1 (16, 11)\n",
      "actions_by_cities []\n",
      "actions_by_units ['bcity u_12', 'bcity u_5', 'bcity u_3', 'bcity u_7', 'bcity u_1']\n",
      "mission_annotations ['dl 10 13 10 13', 'dc 10 13', 'dl 9 13 9 13', 'dc 9 13', 'dl 8 11 8 11', 'dc 8 11', 'dl 4 12 4 12', 'dc 4 12', 'dl 5 16 5 16', 'dc 5 16', 'dl 6 6 6 6', 'dc 6 6', 'dl 10 11 10 11', 'dc 10 11', 'dl 16 11 16 11', 'dc 16 11', \"dst 'U:8 C:0 L:4/13 T:150.824'\"]\n",
      "movement_annotations []\n"
     ]
    }
   ],
   "source": [
    "import pickle\n",
    "import numpy as np\n",
    "import matplotlib.pyplot as plt\n",
    "from agent import game_logic\n",
    "\n",
    "str_step = \"038\"\n",
    "player_id = 0\n",
    "with open(f'snapshots/game_state-{str_step}-{player_id}.pkl', 'rb') as handle:\n",
    "    game_state = pickle.load(handle)\n",
    "with open(f'snapshots/missions-{str_step}-{player_id}.pkl', 'rb') as handle:\n",
    "    missions = pickle.load(handle)\n",
    "\n",
    "_ = game_logic(game_state, missions, DEBUG=True)"
   ]
  },
  {
   "cell_type": "code",
   "execution_count": null,
   "id": "326ecbf3",
   "metadata": {},
   "outputs": [],
   "source": [
    "plt.imshow(game_state.convolved_collectable_tiles_matrix)\n",
    "plt.colorbar()\n",
    "plt.show()"
   ]
  },
  {
   "cell_type": "code",
   "execution_count": null,
   "id": "d6f49d44",
   "metadata": {},
   "outputs": [],
   "source": []
  }
 ],
 "metadata": {
  "kernelspec": {
   "display_name": "Python [conda env:lux-ai] *",
   "language": "python",
   "name": "conda-env-lux-ai-py"
  },
  "language_info": {
   "codemirror_mode": {
    "name": "ipython",
    "version": 3
   },
   "file_extension": ".py",
   "mimetype": "text/x-python",
   "name": "python",
   "nbconvert_exporter": "python",
   "pygments_lexer": "ipython3",
   "version": "3.9.6"
  }
 },
 "nbformat": 4,
 "nbformat_minor": 5
}
