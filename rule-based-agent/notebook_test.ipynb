{
 "cells": [
  {
   "cell_type": "code",
   "execution_count": null,
   "id": "eb786ec4",
   "metadata": {},
   "outputs": [],
   "source": [
    "%load_ext autoreload\n",
    "%autoreload 2"
   ]
  },
  {
   "cell_type": "code",
   "execution_count": null,
   "id": "3ff529c3",
   "metadata": {
    "scrolled": false
   },
   "outputs": [],
   "source": [
    "from kaggle_environments import make\n",
    "import os\n",
    "env = make(\"lux_ai_2021\", debug=True, configuration={\"annotations\": True, \"width\":12, \"height\":12})\n",
    "steps = env.run([\"agent.py\", \"simple_agent\"])\n",
    "env.render(mode=\"ipython\", width=1000, height=800)"
   ]
  },
  {
   "cell_type": "code",
   "execution_count": null,
   "id": "9180d4b5",
   "metadata": {},
   "outputs": [],
   "source": []
  }
 ],
 "metadata": {
  "kernelspec": {
   "display_name": "Python 3 (ipykernel)",
   "language": "python",
   "name": "python3"
  },
  "language_info": {
   "codemirror_mode": {
    "name": "ipython",
    "version": 3
   },
   "file_extension": ".py",
   "mimetype": "text/x-python",
   "name": "python",
   "nbconvert_exporter": "python",
   "pygments_lexer": "ipython3",
   "version": "3.9.6"
  }
 },
 "nbformat": 4,
 "nbformat_minor": 5
}
